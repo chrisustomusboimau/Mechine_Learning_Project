{
 "cells": [
  {
   "cell_type": "code",
   "execution_count": 2,
   "metadata": {
    "colab": {
     "base_uri": "https://localhost:8080/",
     "height": 374
    },
    "executionInfo": {
     "elapsed": 421,
     "status": "ok",
     "timestamp": 1631077920764,
     "user": {
      "displayName": "Ghandy Salim",
      "photoUrl": "",
      "userId": "17001339515017002828"
     },
     "user_tz": -420
    },
    "id": "bW0xvhNAJMfl",
    "outputId": "9c86b1ba-d329-459c-88e3-496b4d4b6050"
   },
   "outputs": [
    {
     "data": {
      "image/png": "[encoded data removed]",
      "text/plain": [
       "<Figure size 576x432 with 1 Axes>"
      ]
     },
     "metadata": {
      "needs_background": "light"
     },
     "output_type": "display_data"
    }
   ],
   "source": [
    "# Making the imports\n",
    "import numpy as np #numerical python, cth: utk array\n",
    "import pandas as pd #data manipulation and analysis, cth: dataframe\n",
    "import matplotlib.pyplot as plt #visualisation with python\n",
    "\n",
    "plt.rcParams['figure.figsize'] = (8.0, 6.0) #besar grafik yg ditunjukkan. With rcParams (runtime configuration parameters) = to change the plotting style\n",
    "\n",
    "# Preprocessing Input data\n",
    "X, Y = np.loadtxt('w1data1.txt', delimiter=',', unpack=True) #mengambil data dan simpan ke X dan Y. Delimiter = pemisah. unpack = pertanyaan apakah mau ditranspose\n",
    "X = X.reshape(-1, 1) #Reshape with (-1, 1) = We have provided column as 1 but rows as unknown, so we get result new shape as (n, 1)\n",
    "Y = Y.reshape(-1, 1)\n",
    "\n",
    "plt.scatter(X, Y) #scatter() method = to draw a scatter plot diagram\n",
    "plt.show() #Display figures\n"
   ]
  },
  {
   "cell_type": "markdown",
   "metadata": {
    "id": "dXrczJfBNYXB"
   },
   "source": [
    "Isilah bagian yang kosong di dalam kode agar program anda dapat berjalan dengan baik"
   ]
  },
  {
   "cell_type": "code",
   "execution_count": 3,
   "metadata": {
    "colab": {
     "base_uri": "https://localhost:8080/",
     "height": 238
    },
    "executionInfo": {
     "elapsed": 5,
     "status": "error",
     "timestamp": 1631077921313,
     "user": {
      "displayName": "Ghandy Salim",
      "photoUrl": "",
      "userId": "17001339515017002828"
     },
     "user_tz": -420
    },
    "id": "3PRejgp6NPkC",
    "outputId": "0d68db0d-d1f4-4bd0-ffd3-73cdb86b4269"
   },
   "outputs": [
    {
     "ename": "NameError",
     "evalue": "ignored",
     "output_type": "error",
     "traceback": [
      "\u001b[0;31m---------------------------------------------------------------------------\u001b[0m",
      "\u001b[0;31mNameError\u001b[0m                                 Traceback (most recent call last)",
      "\u001b[0;32m<ipython-input-3-d2f808718e31>\u001b[0m in \u001b[0;36m<module>\u001b[0;34m()\u001b[0m\n\u001b[1;32m     11\u001b[0m \u001b[0;31m#[....................]\u001b[0m\u001b[0;34m\u001b[0m\u001b[0;34m\u001b[0m\u001b[0;34m\u001b[0m\u001b[0m\n\u001b[1;32m     12\u001b[0m \u001b[0;34m\u001b[0m\u001b[0m\n\u001b[0;32m---> 13\u001b[0;31m \u001b[0mprint\u001b[0m \u001b[0;34m(\u001b[0m\u001b[0mD_theta0\u001b[0m\u001b[0;34m,\u001b[0m \u001b[0mD_theta1\u001b[0m\u001b[0;34m)\u001b[0m\u001b[0;34m\u001b[0m\u001b[0;34m\u001b[0m\u001b[0m\n\u001b[0m\u001b[1;32m     14\u001b[0m \u001b[0mprint\u001b[0m \u001b[0;34m(\u001b[0m\u001b[0mtheta0\u001b[0m\u001b[0;34m,\u001b[0m \u001b[0mtheta1\u001b[0m\u001b[0;34m)\u001b[0m\u001b[0;34m\u001b[0m\u001b[0;34m\u001b[0m\u001b[0m\n\u001b[1;32m     15\u001b[0m \u001b[0;34m\u001b[0m\u001b[0m\n",
      "\u001b[0;31mNameError\u001b[0m: name 'D_theta0' is not defined"
     ]
    }
   ],
   "source": [
    "# Building the model\n",
    "theta0 = 0 #boleh ambil sembarang nilai\n",
    "theta1 = 0 #boleh ambil sembarang nilai\n",
    "\n",
    "L = 0.01  # The learning Rate\n",
    "number_of_iteration = 5000  # The number of iterations to perform gradient descent (bisa memakai syarat lain, misalnya dengan melihat seberapa besar rmse)\n",
    "\n",
    "m = float(len(X)) # Number of elements in X\n",
    "\n",
    "# Performing Gradient Descent \n",
    "#[....................]\n",
    "\n",
    "print (D_theta0, D_theta1)    \n",
    "print (theta0, theta1)\n",
    "\n",
    "# Making predictions\n",
    "Y_pred = theta0 + theta1*X\n",
    "\n",
    "plt.scatter(X, Y) #scatter() method = to draw a scatter plot diagram\n",
    "plt.plot([min(X), max(X)], [min(Y_pred), max(Y_pred)], color='red')  #Plot y versus x as lines and/or markers.\n",
    "plt.show() #Display all open figures."
   ]
  },
  {
   "cell_type": "markdown",
   "metadata": {},
   "source": [
    "Pembahasan:\n",
    "Apa yang terjadi apabila learning rate yang dipilih terlalu kecil?\n",
    "Apa yang terjadi kalau jumlah iterasi terlalu kecil?\n",
    "Apa yang terjadi kalau jumlah iterasi terlalu besar?"
   ]
  }
 ],
 "metadata": {
  "colab": {
   "authorship_tag": "ABX9TyMeIlyXXbuaLc8FJMA4X/cQ",
   "collapsed_sections": [],
   "name": "LKM IEE3041_W1_01_Soal.ipynb",
   "provenance": []
  },
  "kernelspec": {
   "display_name": "Python 3 (ipykernel)",
   "language": "python",
   "name": "python3"
  },
  "language_info": {
   "codemirror_mode": {
    "name": "ipython",
    "version": 3
   },
   "file_extension": ".py",
   "mimetype": "text/x-python",
   "name": "python",
   "nbconvert_exporter": "python",
   "pygments_lexer": "ipython3",
   "version": "3.10.13"
  }
 },
 "nbformat": 4,
 "nbformat_minor": 4
}
